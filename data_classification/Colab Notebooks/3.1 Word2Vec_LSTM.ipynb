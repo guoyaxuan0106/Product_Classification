{
  "nbformat": 4,
  "nbformat_minor": 0,
  "metadata": {
    "colab": {
      "name": "3.1 Word2Vec_LSTM.ipynb",
      "provenance": [],
      "collapsed_sections": [],
      "toc_visible": true
    },
    "kernelspec": {
      "name": "python3",
      "display_name": "Python 3"
    }
  },
  "cells": [
    {
      "cell_type": "code",
      "metadata": {
        "id": "IZx3pb3FX32I",
        "colab": {
          "base_uri": "https://localhost:8080/"
        },
        "outputId": "8b0b95e4-215b-4a25-c0e5-db0bdf8642e6"
      },
      "source": [
        "import re\n",
        "import os\n",
        "import numpy as np\n",
        "import pandas as pd\n",
        "\n",
        "import nltk\n",
        "from nltk.tokenize import word_tokenize\n",
        "from nltk.translate.bleu_score import corpus_bleu\n",
        "nltk.download('punkt')  # download pre-trained Punkt tokenizer for English\n",
        "\n",
        "import warnings\n",
        "warnings.filterwarnings('ignore')\n",
        "\n",
        "import torch\n",
        "import torch.nn as nn\n",
        "from torch.autograd import Variable\n",
        "import torch.backends.cudnn as cudnn\n",
        "import torch.utils.data as Data\n",
        "from torch.nn.utils.rnn import pack_padded_sequence\n",
        "\n",
        "from sklearn.model_selection import train_test_split\n",
        "from sklearn.model_selection import learning_curve\n",
        "from sklearn.metrics import accuracy_score, f1_score, recall_score\n",
        "from sklearn import metrics\n",
        "from sklearn.utils import shuffle\n",
        "\n",
        "import matplotlib.pyplot as plt\n",
        "\n",
        "import json"
      ],
      "execution_count": 21,
      "outputs": [
        {
          "output_type": "stream",
          "text": [
            "[nltk_data] Downloading package punkt to /root/nltk_data...\n",
            "[nltk_data]   Package punkt is already up-to-date!\n"
          ],
          "name": "stdout"
        }
      ]
    },
    {
      "cell_type": "code",
      "metadata": {
        "id": "re6WFZUqB8mR"
      },
      "source": [
        "device = torch.device(\"cuda\" if torch.cuda.is_available() else \"cpu\")"
      ],
      "execution_count": 22,
      "outputs": []
    },
    {
      "cell_type": "markdown",
      "metadata": {
        "id": "aw52TQ9PX11_"
      },
      "source": [
        "# Wording embedding"
      ]
    },
    {
      "cell_type": "markdown",
      "metadata": {
        "id": "L2OgYqqgvEFh"
      },
      "source": [
        "## Cleaning and Tokenization"
      ]
    },
    {
      "cell_type": "code",
      "metadata": {
        "id": "ALj6Abz5qid5"
      },
      "source": [
        "# 1. Product name\n",
        "# 2. Product name + price\n",
        "# 3. Product name + price + image (multimodal)"
      ],
      "execution_count": 23,
      "outputs": []
    },
    {
      "cell_type": "code",
      "metadata": {
        "id": "lD2t4u0qr9Jh"
      },
      "source": [
        "def data_loading(file_name):\n",
        "  data = pd.read_csv(file_name)\n",
        "  data = shuffle(data)\n",
        "  name = list(data['ProductName'].values)\n",
        "  cat = list(data['level_1'].values)\n",
        "  name_cat = pd.DataFrame(zip(name, cat), columns = ['Name', 'Category'])\n",
        "\n",
        "  # ! use utils2.get_dict()\n",
        "  # dictionary of category to id\n",
        "  cat2id = {cat_name: id for id, cat_name in enumerate(sorted(set(cat)))}\n",
        "  # dictionary of id to category\n",
        "  id2cat = {id: cat_name for id, cat_name in enumerate(sorted(set(cat)))}\n",
        "\n",
        "  # list of category(id) for each product\n",
        "  product_catId = [cat2id.get(name) for _, name in enumerate(cat)]\n",
        "\n",
        "  return name, cat, name_cat, cat2id, id2cat, product_catId"
      ],
      "execution_count": 24,
      "outputs": []
    },
    {
      "cell_type": "code",
      "metadata": {
        "id": "aZomdsh2wUz9"
      },
      "source": [
        "def tokenize(corpus):\n",
        "    data = re.sub(r'[,!?;-]+', '.', corpus)\n",
        "    data = nltk.word_tokenize(data)\n",
        "    name_str = ''\n",
        "    for ch in data:\n",
        "      if ch.isalpha(): # number in name will not affect the classification\n",
        "        name_str = name_str + ch.lower() + ' '           \n",
        "    return name_str"
      ],
      "execution_count": 25,
      "outputs": []
    },
    {
      "cell_type": "code",
      "metadata": {
        "id": "d9o8lds7m4pZ",
        "colab": {
          "base_uri": "https://localhost:8080/"
        },
        "outputId": "382b564d-c9ee-489b-9bfb-5a8e762aec68"
      },
      "source": [
        "from google.colab import drive\n",
        "drive.mount('/content/drive')"
      ],
      "execution_count": 26,
      "outputs": [
        {
          "output_type": "stream",
          "text": [
            "Drive already mounted at /content/drive; to attempt to forcibly remount, call drive.mount(\"/content/drive\", force_remount=True).\n"
          ],
          "name": "stdout"
        }
      ]
    },
    {
      "cell_type": "code",
      "metadata": {
        "id": "iBvJ5KvDtomS"
      },
      "source": [
        "file_name = '/content/drive/My Drive/Product_Classification/Data/data_unqiue_all_branches.csv'\n",
        "name, cat, name_cat, cat2id, id2cat, product_catId = data_loading(file_name)"
      ],
      "execution_count": 27,
      "outputs": []
    },
    {
      "cell_type": "markdown",
      "metadata": {
        "id": "AjrkT4YtqJvb"
      },
      "source": [
        "## Word2Vec"
      ]
    },
    {
      "cell_type": "code",
      "metadata": {
        "id": "gbG9aKpBlp7y"
      },
      "source": [
        "from gensim.models import Word2Vec\n",
        "from gensim.models.word2vec import LineSentence\n",
        "import multiprocessing\n",
        "import torchtext.vocab as vocab"
      ],
      "execution_count": 28,
      "outputs": []
    },
    {
      "cell_type": "code",
      "metadata": {
        "id": "TCgoPDjhhD1S"
      },
      "source": [
        "name_cat = name_cat.apply([tokenize])\n",
        "name_cat.columns = ['Name', 'Category']"
      ],
      "execution_count": 29,
      "outputs": []
    },
    {
      "cell_type": "code",
      "metadata": {
        "id": "9rYvgaABI4Y-"
      },
      "source": [
        "def load_embedding(filename):\n",
        "  cache = '.vector_cache'\n",
        "  if not os.path.exists(cache):\n",
        "    os.mkdir(cache)\n",
        "  \n",
        "  # https://blog.csdn.net/weixin_38008864/article/details/99915084\n",
        "  vector = vocab.Vectors(name = filename, cache = cache)\n",
        "  return vector"
      ],
      "execution_count": 30,
      "outputs": []
    },
    {
      "cell_type": "code",
      "metadata": {
        "id": "T-_54X7IwGCx"
      },
      "source": [
        "import random\n",
        "\n",
        "def encode_text_to_features(vector, text, my_dict, word_dim, max_length):\n",
        "\n",
        "  # set the word length for each product name\n",
        "  name_list = list(name_cat['Name'])\n",
        "  \n",
        "  vec = []\n",
        "  for k in text.split():\n",
        "    if k in list(my_dict.keys()) and len(vec) < max_length:\n",
        "      vec.append(my_dict[k])\n",
        "\n",
        "  if not vec:\n",
        "    vec = [[0] * word_dim] * max_length\n",
        "\n",
        "  vec.extend([[0] * word_dim] * (max_length - len(vec)))\n",
        "  \n",
        "  return vec"
      ],
      "execution_count": 31,
      "outputs": []
    },
    {
      "cell_type": "code",
      "metadata": {
        "id": "026u-kI2wIV5"
      },
      "source": [
        "def wor2vec_method(option, name_cat, word_dim, max_length):\n",
        "\n",
        "  # txt containing variable for classification: product name (tokenized) - product category (tokenized)\n",
        "  name_cat_text = open(option + '_name_cat.txt', 'w', encoding = 'utf-8')\n",
        "  for _, row in name_cat.iterrows():\n",
        "  # ? Whether add category in word embedding\n",
        "    name_cat_text.write(row['Name'] + ' ' + row['Category'] + '\\n')\n",
        "  name_cat_text.close()\n",
        "\n",
        "  # Word2Vec Model\n",
        "  readline = open(option + '_name_cat.txt', 'r', encoding = 'utf-8')\n",
        "  model = Word2Vec(LineSentence(readline), size = word_dim, window = 5, workers = multiprocessing.cpu_count(), min_count = 10)\n",
        "  model.wv.save_word2vec_format(option + '_word2vec.txt', binary = False)\n",
        "  model.save(option + \"_word2vec.model\")\n",
        "\n",
        "\n",
        "  # Word2Vec Dictionary: product name charactor (tokenized) - vector\n",
        "  model = Word2Vec.load(option + \"_word2vec.model\")\n",
        "  my_dict = dict({})\n",
        "  for _, key in enumerate(model.wv.vocab):\n",
        "      my_dict[key] = model.wv[key].tolist()\n",
        "\n",
        "  # word embedding\n",
        "  vector = load_embedding(option + '_word2vec.txt')\n",
        "\n",
        "\n",
        "  # Vectors for all product names\n",
        "  features = [encode_text_to_features(vector, text, my_dict, word_dim, max_length) for text in name_cat['Name']]\n",
        "\n",
        "  return features\n",
        "  # features and cat use for futher model training"
      ],
      "execution_count": 32,
      "outputs": []
    },
    {
      "cell_type": "markdown",
      "metadata": {
        "id": "tPBCjAvt5Ih7"
      },
      "source": [
        "# Model Architecture"
      ]
    },
    {
      "cell_type": "code",
      "metadata": {
        "id": "wuB2rA_s5Ni6"
      },
      "source": [
        "class LSTM(nn.Module):\n",
        "  def __init__(self, num_classes, input_size, hidden_size, num_layers):\n",
        "    super(LSTM, self).__init__()\n",
        "    \n",
        "    # num_classes = output_size\n",
        "    self.num_classes = num_classes \n",
        "\n",
        "    # The number of expected features in the input x\n",
        "    self.input_size = input_size\n",
        "    self.hidden_size = hidden_size\n",
        "    self.num_layers = num_layers\n",
        "    \n",
        "    self.lstm = nn.LSTM(input_size = input_size, \n",
        "                        hidden_size = hidden_size, \n",
        "                        num_layers = num_layers, \n",
        "                        batch_first = True\n",
        "                        )\n",
        "\n",
        "    self.fc = nn.Linear(hidden_size, num_classes)\n",
        "\n",
        "  def forward(self, x):\n",
        "    # x.shape = (seq_len, batch, input_size)\n",
        "\n",
        "    # Initilize h and c\n",
        "    # Their size is (num_layers * num_directions, batch, hidden_size)\n",
        "\n",
        "    # print(x.shape)\n",
        "    h_shape = (self.num_layers, x.shape[0], self.hidden_size)\n",
        "    h = Variable(torch.rand(h_shape))\n",
        "    c = Variable(torch.rand(h_shape))\n",
        "    # print(h.shape)\n",
        "\n",
        "    # Inputs: input, (h_0, c_0)\n",
        "    _, (h_out, _) = self.lstm(x, (h, c))\n",
        "\n",
        "    # self.fc has size (batch_size, hidden_size)\n",
        "    out = self.fc(h_out[0])\n",
        "\n",
        "    return out\n"
      ],
      "execution_count": 33,
      "outputs": []
    },
    {
      "cell_type": "markdown",
      "metadata": {
        "id": "gmsZUgLB1a_l"
      },
      "source": [
        "# Model Training"
      ]
    },
    {
      "cell_type": "markdown",
      "metadata": {
        "id": "uLQl51b7xytI"
      },
      "source": [
        "## Training for each epoch"
      ]
    },
    {
      "cell_type": "code",
      "metadata": {
        "id": "v8ArOK9HUU8y"
      },
      "source": [
        "def train(train_loader, device, model, loss_function, optimizer):\n",
        "\n",
        "  \"\"\"\n",
        "  Performs one epoch's training.\n",
        "  :param train_loader: DataLoader for training data\n",
        "  :param model: model\n",
        "  :param loss_function: loss layer\n",
        "  :param optimizer: optimizer to update model's weights\n",
        "  \"\"\"\n",
        "\n",
        "  model.train()\n",
        "\n",
        "  loss_batch = []\n",
        "  accu_batch = []\n",
        "\n",
        "  for X, y in train_loader:\n",
        "\n",
        "    X = X.to(device)\n",
        "    y = y.type(torch.LongTensor).to(device)\n",
        "    \n",
        "    pred_y = model(X)\n",
        "    loss = loss_function(pred_y, y)\n",
        "    loss_batch.append(loss.item())\n",
        "\n",
        "    softmax = nn.Softmax(dim = 1)\n",
        "    pred_y = softmax(pred_y)\n",
        "\n",
        "    _, pred_label = torch.max(pred_y, dim = 1)\n",
        "    accu_batch.append(float(torch.sum(pred_label == y).item() / len(pred_label)))\n",
        "\n",
        "    # update gradients in each training batch\n",
        "    # so that the updating speed will be higher\n",
        "    loss.backward()\n",
        "    optimizer.step()\n",
        "    optimizer.zero_grad()\n",
        "\n",
        "  return loss_batch, accu_batch"
      ],
      "execution_count": 34,
      "outputs": []
    },
    {
      "cell_type": "markdown",
      "metadata": {
        "id": "vCu3kattx3aZ"
      },
      "source": [
        "## Testing for each epoch"
      ]
    },
    {
      "cell_type": "code",
      "metadata": {
        "id": "txakH8rKwcqg"
      },
      "source": [
        "def test(train_loader, device, model, loss_function):\n",
        "\n",
        "  \"\"\"\n",
        "  Performs one epoch's testing.\n",
        "  :param train_loader: DataLoader for testing data\n",
        "  :param model: model\n",
        "  :param loss_function: loss layer\n",
        "  \"\"\"\n",
        "\n",
        "  model.eval()\n",
        "\n",
        "  loss_batch_test = []\n",
        "  accu_batch_test = []\n",
        "\n",
        "  for X_test, y_test in test_loader:\n",
        "    \n",
        "    X_test = X_test.to(device)\n",
        "    y_test = y_test.type(torch.LongTensor).to(device)\n",
        "\n",
        "    pred_y_test = model(X_test)\n",
        "    loss = loss_function(pred_y_test, y_test)\n",
        "    loss_batch_test.append(loss.item())\n",
        "\n",
        "    softmax = nn.Softmax(dim = 1)\n",
        "    pred_y_test = softmax(pred_y_test)\n",
        "\n",
        "    _, pred_label_test = torch.max(pred_y_test, dim = 1)\n",
        "    accu_batch_test.append(float(torch.sum(pred_label_test == y_test).item() / len(pred_label_test)))\n",
        "\n",
        "  return loss_batch_test, accu_batch_test"
      ],
      "execution_count": 35,
      "outputs": []
    },
    {
      "cell_type": "markdown",
      "metadata": {
        "id": "KPArxRRA3FYD"
      },
      "source": [
        "## Embedding training"
      ]
    },
    {
      "cell_type": "code",
      "metadata": {
        "id": "jwt2hM5K3Kiz"
      },
      "source": [
        "## original word2vec features and id\n",
        "## ori_features and ori_cat for further model training\n",
        "\n",
        "word_dim = 300\n",
        "max_length = 10\n",
        "\n",
        "features = wor2vec_method('ori', name_cat, word_dim, max_length)\n",
        "categoryId = product_catId.copy()"
      ],
      "execution_count": 36,
      "outputs": []
    },
    {
      "cell_type": "markdown",
      "metadata": {
        "id": "BgGULxq-yMaw"
      },
      "source": [
        "## Model Training"
      ]
    },
    {
      "cell_type": "code",
      "metadata": {
        "id": "ckqXMe8lwqvu",
        "colab": {
          "base_uri": "https://localhost:8080/"
        },
        "outputId": "a92d9ba9-4f14-478a-d6e6-7dd68e45a2d5"
      },
      "source": [
        "# Change to variable tensor\n",
        "features = Variable(torch.Tensor(features))\n",
        "categoryId = Variable(torch.Tensor(categoryId))\n",
        "print(features.shape)"
      ],
      "execution_count": 37,
      "outputs": [
        {
          "output_type": "stream",
          "text": [
            "torch.Size([13136, 10, 300])\n"
          ],
          "name": "stdout"
        }
      ]
    },
    {
      "cell_type": "code",
      "metadata": {
        "id": "NYboYru8SKe4"
      },
      "source": [
        "# Train Test Split\n",
        "X_train, X_test, y_train, y_test = train_test_split(features, categoryId, test_size=0.20, random_state=42)\n",
        "\n",
        "# Training and testing dataset\n",
        "train_dataset = Data.TensorDataset(X_train, y_train)\n",
        "test_dataset = Data.TensorDataset(X_test, y_test)\n",
        "\n",
        "# DataLoader\n",
        "batch_size = 200\n",
        "train_loader = Data.DataLoader(train_dataset, batch_size, True)\n",
        "test_loader = Data.DataLoader(test_dataset, batch_size, True)"
      ],
      "execution_count": 38,
      "outputs": []
    },
    {
      "cell_type": "code",
      "metadata": {
        "id": "jnGizkYUfAH5"
      },
      "source": [
        "# Initialize the model\n",
        "num_classes = len(cat2id)\n",
        "input_size = word_dim\n",
        "hidden_size = 100\n",
        "num_layers = 1\n",
        "learning_rate = 0.01"
      ],
      "execution_count": 39,
      "outputs": []
    },
    {
      "cell_type": "code",
      "metadata": {
        "id": "VSwgzp6FK1h9",
        "colab": {
          "base_uri": "https://localhost:8080/"
        },
        "outputId": "a63ed6ff-5ea3-4f3c-e21f-8f38f6f02946"
      },
      "source": [
        "model = LSTM(num_classes, input_size, hidden_size, num_layers).to(device)\n",
        "loss_function = nn.CrossEntropyLoss().to(device)\n",
        "optimizer = torch.optim.Adam(model.parameters(), lr = learning_rate)\n",
        "\n",
        "loss_epoch_train = []\n",
        "accu_epoch_train = []\n",
        "loss_epoch_test = []\n",
        "accu_epoch_test = []\n",
        "\n",
        "epoches = 15\n",
        "\n",
        "for epoch in range(epoches):\n",
        "\n",
        "  # training\n",
        "\n",
        "  loss_batch_train, accu_batch_train = train(train_loader, device, model, loss_function, optimizer)\n",
        "  \n",
        "\n",
        "  # testing\n",
        "\n",
        "  loss_batch_test, accu_batch_test = test(train_loader, device, model, loss_function)\n",
        "\n",
        "\n",
        "  if epoch % 1 == 0:\n",
        "    print('Epoch:{} -- Training: Loss:{:.4f}, Accuracy:{:.4f} %; Testing: Loss:{:.4f}, Accuracy:{:.4f} %'.format(\n",
        "        epoch + 1, \n",
        "        float(np.mean(loss_batch_train)), 100*float(np.mean(accu_batch_train)), \n",
        "        float(np.mean(loss_batch_test)), 100*float(np.mean(accu_batch_test)))\n",
        "    )\n",
        "\n",
        "  loss_epoch_train.append(float(np.mean(loss_batch_train)))\n",
        "  accu_epoch_train.append(float(100*np.mean(accu_batch_train)))\n",
        "  loss_epoch_test.append(float(np.mean(loss_batch_test)))\n",
        "  accu_epoch_test.append(float(100*np.mean(accu_batch_test)))"
      ],
      "execution_count": 40,
      "outputs": [
        {
          "output_type": "stream",
          "text": [
            "Epoch:1 -- Training: Loss:1.2181, Accuracy:56.4892 %; Testing: Loss:0.7417, Accuracy:76.3878 %\n",
            "Epoch:2 -- Training: Loss:0.6357, Accuracy:79.0321 %; Testing: Loss:0.5445, Accuracy:81.8827 %\n",
            "Epoch:3 -- Training: Loss:0.5092, Accuracy:83.2621 %; Testing: Loss:0.5085, Accuracy:83.3061 %\n",
            "Epoch:4 -- Training: Loss:0.4539, Accuracy:84.7813 %; Testing: Loss:0.4891, Accuracy:83.0051 %\n",
            "Epoch:5 -- Training: Loss:0.4136, Accuracy:86.0894 %; Testing: Loss:0.4279, Accuracy:84.5459 %\n",
            "Epoch:6 -- Training: Loss:0.3890, Accuracy:86.7701 %; Testing: Loss:0.4532, Accuracy:84.3112 %\n",
            "Epoch:7 -- Training: Loss:0.3590, Accuracy:87.8917 %; Testing: Loss:0.3990, Accuracy:85.9082 %\n",
            "Epoch:8 -- Training: Loss:0.3409, Accuracy:88.5234 %; Testing: Loss:0.3628, Accuracy:87.3061 %\n",
            "Epoch:9 -- Training: Loss:0.3250, Accuracy:89.0112 %; Testing: Loss:0.3469, Accuracy:88.6633 %\n",
            "Epoch:10 -- Training: Loss:0.3103, Accuracy:89.5342 %; Testing: Loss:0.3604, Accuracy:88.6122 %\n",
            "Epoch:11 -- Training: Loss:0.2907, Accuracy:90.2082 %; Testing: Loss:0.3444, Accuracy:88.3622 %\n",
            "Epoch:12 -- Training: Loss:0.2823, Accuracy:90.4399 %; Testing: Loss:0.3640, Accuracy:88.8980 %\n",
            "Epoch:13 -- Training: Loss:0.2736, Accuracy:90.6478 %; Testing: Loss:0.3489, Accuracy:88.9898 %\n",
            "Epoch:14 -- Training: Loss:0.2620, Accuracy:91.0475 %; Testing: Loss:0.3200, Accuracy:89.9643 %\n",
            "Epoch:15 -- Training: Loss:0.2423, Accuracy:91.5853 %; Testing: Loss:0.3934, Accuracy:87.4439 %\n"
          ],
          "name": "stdout"
        }
      ]
    },
    {
      "cell_type": "markdown",
      "metadata": {
        "id": "HgRXt2O72JVC"
      },
      "source": [
        "# Evaluation"
      ]
    },
    {
      "cell_type": "code",
      "metadata": {
        "id": "s5-jHcPd1ww0"
      },
      "source": [
        "def evaluation(predictions, labels, id2label, model_name=None):\n",
        "    acc = accuracy_score(labels, predictions)\n",
        "    recall = recall_score(labels, predictions, average=\"macro\")\n",
        "    f1 = f1_score(labels, predictions, average=\"macro\")\n",
        "    report = metrics.classification_report(labels, predictions,\n",
        "                                           target_names=[id2label[i] for i in range(len(id2label))])\n",
        "    info = \"acc:%s, recall:%s, f1 score:%s\" % (acc, recall, f1)\n",
        "    if model_name is not None:\n",
        "        info = \"%s: %s\" % (model_name, info)\n",
        "    print(info)\n",
        "    print(report)"
      ],
      "execution_count": 41,
      "outputs": []
    },
    {
      "cell_type": "code",
      "metadata": {
        "id": "EKGo4aNj2MYz",
        "colab": {
          "base_uri": "https://localhost:8080/"
        },
        "outputId": "8e16d269-a735-4101-dbf4-5b9fa7246932"
      },
      "source": [
        "pred_categoryId = model(features.to(device))\n",
        "softmax = nn.Softmax(dim = 1)\n",
        "pred_categoryId = softmax(pred_categoryId)\n",
        "_, pred_label = torch.max(pred_categoryId, dim = 1)\n",
        "\n",
        "pred_label = pred_label.detach().cpu().numpy()\n",
        "evaluation(pred_label, categoryId, id2cat, model_name='TextRNN')"
      ],
      "execution_count": 42,
      "outputs": [
        {
          "output_type": "stream",
          "text": [
            "TextRNN: acc:0.8994366626065774, recall:0.9082158994745568, f1 score:0.9070212780274449\n",
            "                             precision    recall  f1-score   support\n",
            "\n",
            "       Baby, Toddler & Kids       0.93      0.92      0.92       354\n",
            "         Beer, Cider & Wine       0.92      0.98      0.95      1236\n",
            " Chilled, Frozen & Desserts       0.86      0.86      0.86      1428\n",
            "                     Drinks       0.80      0.98      0.88      1067\n",
            "       Fresh Foods & Bakery       0.94      0.78      0.85      1267\n",
            "Kitchen, Dining & Household       0.95      0.85      0.90      1186\n",
            "                     Pantry       0.90      0.89      0.89      4310\n",
            "              Personal Care       0.89      0.95      0.92      1775\n",
            "                       Pets       1.00      0.97      0.98       513\n",
            "\n",
            "                   accuracy                           0.90     13136\n",
            "                  macro avg       0.91      0.91      0.91     13136\n",
            "               weighted avg       0.90      0.90      0.90     13136\n",
            "\n"
          ],
          "name": "stdout"
        }
      ]
    },
    {
      "cell_type": "code",
      "metadata": {
        "id": "o42j46YnZ28x",
        "colab": {
          "base_uri": "https://localhost:8080/",
          "height": 279
        },
        "outputId": "b7e182d7-844b-4e40-ee1c-550cce220425"
      },
      "source": [
        "plt.plot(range(len(loss_epoch_train)), loss_epoch_train)\n",
        "plt.plot(range(len(loss_epoch_test)), loss_epoch_test)\n",
        "plt.xlabel('epoch')\n",
        "plt.ylabel('Loss')\n",
        "l1 = plt.legend([loss_epoch_train, loss_epoch_test], ['Train, Test'], loc = 'lower right')\n",
        "plt.show()"
      ],
      "execution_count": 43,
      "outputs": [
        {
          "output_type": "display_data",
          "data": {
            "image/png": "[encoded data removed]",
            "text/plain": [
              "<Figure size 432x288 with 1 Axes>"
            ]
          },
          "metadata": {
            "tags": [],
            "needs_background": "light"
          }
        }
      ]
    },
    {
      "cell_type": "code",
      "metadata": {
        "id": "htR_HC053L0b"
      },
      "source": [
        ""
      ],
      "execution_count": 43,
      "outputs": []
    }
  ]
}